{
  "nbformat": 4,
  "nbformat_minor": 0,
  "metadata": {
    "colab": {
      "provenance": []
    },
    "kernelspec": {
      "name": "python3",
      "display_name": "Python 3"
    },
    "language_info": {
      "name": "python"
    }
  },
  "cells": [
    {
      "cell_type": "code",
      "execution_count": null,
      "metadata": {
        "id": "qOjFpnzrjYQy"
      },
      "outputs": [],
      "source": []
    },
    {
      "cell_type": "code",
      "execution_count": null,
      "metadata": {
        "id": "5E1sRVCCNkXb"
      },
      "outputs": [],
      "source": [
        "import pandas as pd\n",
        "import matplotlib.pyplot as plt\n",
        "import seaborn as sns;\n",
        "from scipy.spatial import distance\n",
        "from sklearn.preprocessing import StandardScaler\n",
        "import time\n",
        "import math\n",
        "\n",
        "sns.set()  \n",
        "import numpy as np\n",
        "from collections import defaultdict\n",
        "\n",
        "from numpy import dot\n",
        "from numpy.linalg import norm\n",
        "\n",
        "def lineToTuple(line):\n",
        "    \n",
        "    cleanLine = line.strip()\n",
        "    \n",
        "    cleanLine = cleanLine.replace('\"', '')\n",
        "    \n",
        "    lineList = cleanLine.split(\",\")\n",
        "    \n",
        "    stringsToNumbers(lineList)\n",
        "    lineTuple = tuple(lineList)\n",
        "    return lineTuple\n",
        "\n",
        "def stringsToNumbers(myList):\n",
        "    for i in range(len(myList)):\n",
        "        if (isValidNumberString(myList[i])):\n",
        "            myList[i] = float(myList[i])\n",
        "\n",
        "def isValidNumberString(s):\n",
        "  if len(s) == 0:\n",
        "    return False\n",
        "  if  len(s) > 1 and s[0] == \"-\":\n",
        "      s = s[1:]\n",
        "  for c in s:\n",
        "    if c not in \"0123456789.\":\n",
        "      return False\n",
        "  return True\n",
        "\n",
        "def loadCSV(fileName):\n",
        "    fileHandler = open(fileName, \"rt\")\n",
        "    lines = fileHandler.readlines()\n",
        "    fileHandler.close()\n",
        "    del lines[0]  \n",
        "    dataset = []\n",
        "    for line in lines:\n",
        "        instance = lineToTuple(line)\n",
        "        dataset.append(instance)\n",
        "    return dataset\n",
        "\n",
        "def euclidean_distance(point1, point2):\n",
        "    distance = 0\n",
        "    for a,b in zip(point1, point2):\n",
        "        distance += pow((a-b), 2)\n",
        "    return math.sqrt(distance)\n",
        "def manhattan_distance(point1, point2):\n",
        "    distance = 0\n",
        "    for a,b in zip(point1, point2):\n",
        "        distance += abs(a-b)\n",
        "    return distance\n",
        "def cosine_similarity(point1, point2):\n",
        "  A = np.array(point1)\n",
        "  B = np.array(point2)\n",
        "  dist = 1 - np.dot(A,B)/(np.linalg.norm(A)*np.linalg.norm(B))\n",
        "  return dist\n",
        "def jaccard(A, B):\n",
        "    return 1 - (np.sum(np.minimum(A,B), axis = 0)/np.sum(np.maximum(A, B), axis = 0)) \n",
        "def calculate_centroid(cluster):\n",
        "  n = len(cluster[0])\n",
        "  \n",
        "  centroid = [0]*(n-1)\n",
        "\n",
        "  for i in range(n-1):\n",
        "    for point in cluster:\n",
        "      centroid[i] += point[i]\n",
        "    centroid[i] = centroid[i]/len(cluster)\n",
        "  \n",
        "\n",
        "  \n",
        "  return centroid\n",
        "def draw_nd_scatter(clusters, centroid_centers):\n",
        "  for key in clusters:\n",
        "    x = []\n",
        "    y = []\n",
        "    cluster = clusters[key]\n",
        "    for c in cluster:\n",
        "      x.append(c[0])\n",
        "      y.append(c[1])\n",
        "    plt.scatter(x, y, marker='*', s=50, cmap='viridis')\n",
        "\n",
        "  for point in centroid_centers:\n",
        "    plt.scatter(point[0], point[1], c='black', s=200, alpha=0.5)\n",
        "  \n",
        "  plt.show()\n",
        "def label_cluster(cluster):\n",
        "  cl = defaultdict(int)\n",
        "  for point in cluster:\n",
        "    cl[point[-1]] += 1\n",
        "  return cl\n",
        "class KMeans:\n",
        "  def __init__(self, n_clusters=10, max_iters=100, init_centroids=None, d_func=euclidean_distance, show_sse=False, show_first_centroid=False, centroid_stop=True):\n",
        "    self.n_clusters = n_clusters\n",
        "    self.max_iters = max_iters\n",
        "    self.init_centroids = init_centroids\n",
        "    self.d_func = d_func\n",
        "    self.sse_list = []\n",
        "    self.show_first_centroid = show_first_centroid\n",
        "    self.show_sse = show_sse\n",
        "    self.centroid_stop = centroid_stop\n",
        "\n",
        "  def fit(self, data):\n",
        "    start = time.time()\n",
        "    if self.init_centroids is None:\n",
        "      \n",
        "      random_choice = np.random.choice(range(len(data)), self.n_clusters, replace=False)\n",
        "      centroids = []\n",
        "\n",
        "      for choice in random_choice:\n",
        "        \n",
        "        centroids.append(data[choice][:-1])\n",
        "        \n",
        "      \n",
        "      self.init_centroids = centroids\n",
        "    \n",
        "    for loop in range(self.max_iters): \n",
        "      clusters = defaultdict(list)\n",
        "      sse = 0\n",
        "      \n",
        "\n",
        "      for point in data:\n",
        "        temp_centroid = -1\n",
        "        min_dist = 99999999\n",
        "        for i, centroid in enumerate(self.init_centroids):\n",
        "        \n",
        "          d = self.d_func(point[:-1], centroid)\n",
        "          \n",
        "          if d < min_dist:\n",
        "            temp_centroid = i\n",
        "            min_dist = d\n",
        "        \n",
        "        clusters[temp_centroid].append(point)\n",
        "\n",
        "      prev_centroids = self.init_centroids.copy()\n",
        "      \n",
        "      for key in clusters.keys():\n",
        "        cluster = clusters[key]\n",
        "        self.init_centroids[key] = calculate_centroid(cluster)\n",
        "\n",
        "      if loop == 1 and self.show_first_centroid == True:\n",
        "        print(\"Centroids after first iteration: \", self.init_centroids)\n",
        "\n",
        "      if self.centroid_stop == True and self.init_centroids == prev_centroids:\n",
        "        print(\"Centroids converged at iteration \",loop)\n",
        "        break\n",
        "\n",
        "      \n",
        "      for key in clusters.keys():\n",
        "        cluster = clusters[key]\n",
        "        ce = self.init_centroids[key]\n",
        "\n",
        "        for p in cluster:\n",
        "          sse += euclidean_distance(ce, p)**2\n",
        "\n",
        "      if self.show_sse == True and loop > 1 and self.sse_list[-1] <= sse:\n",
        "        self.sse_list.pop()\n",
        "        break\n",
        "\n",
        "      self.sse_list.append(sse)\n",
        "      print(\"Iteration number is \", loop,\" SSE: \",self.sse_list[-1])\n",
        "\n",
        "    print(\"Time taken:\", time.time() - start)\n",
        "    print(\"Number of iterations:\", loop)\n",
        "    return [self.init_centroids, clusters]\n"
      ]
    },
    {
      "cell_type": "code",
      "source": [
        "raw_data = loadCSV('/content/data.csv')\n"
      ],
      "metadata": {
        "id": "DL5cXTtc6FgM"
      },
      "execution_count": null,
      "outputs": []
    },
    {
      "cell_type": "code",
      "source": [
        "raw_gth = loadCSV('/content/label.csv')"
      ],
      "metadata": {
        "id": "XAmbk4YOjxim"
      },
      "execution_count": null,
      "outputs": []
    },
    {
      "cell_type": "code",
      "source": [
        "type(raw_data[0])"
      ],
      "metadata": {
        "id": "d0WIgcbxj0k8"
      },
      "execution_count": null,
      "outputs": []
    },
    {
      "cell_type": "code",
      "source": [
        "original_labels = dict(label_cluster(raw_data))"
      ],
      "metadata": {
        "id": "lau51CU3j4O0"
      },
      "execution_count": null,
      "outputs": []
    },
    {
      "cell_type": "code",
      "source": [
        "original_labels[1]"
      ],
      "metadata": {
        "id": "59QBsA5vj7ZM"
      },
      "execution_count": null,
      "outputs": []
    },
    {
      "cell_type": "code",
      "execution_count": null,
      "metadata": {
        "id": "a50tpBfkkEBb"
      },
      "outputs": [],
      "source": [
        "original_labels[1]=original_labels[1.0]"
      ]
    },
    {
      "cell_type": "code",
      "execution_count": null,
      "metadata": {
        "id": "CGanhN1qUEn7"
      },
      "outputs": [],
      "source": [
        "kmeans = KMeans(max_iters=100)\n",
        "[centroid_centers, clusters] = kmeans.fit(raw_data)"
      ]
    },
    {
      "cell_type": "code",
      "source": [
        "clusters.keys()"
      ],
      "metadata": {
        "id": "WqFPSzz4kKIe"
      },
      "execution_count": null,
      "outputs": []
    },
    {
      "cell_type": "code",
      "source": [
        "labels = {1: 0,2: 0,3: 0,4: 0,5: 0,6: 0,7: 0,8: 0,9:0}\n",
        "\n",
        "for key in clusters:\n",
        "  d = dict(label_cluster(clusters[key]))\n",
        "  mx = 0\n",
        "  s = 0\n",
        "  label = \"\"\n",
        "  for k in d:\n",
        "    s += d[k]\n",
        "    if d[k] > mx:\n",
        "      mx = d[k]\n",
        "      label = k\n",
        "  labels[label] = mx\n",
        "\n",
        "\n",
        "\n",
        "print(\"SSE =\",kmeans.sse_list)\n",
        "print(\"Original Labels: \", original_labels)\n",
        "print(\"Predicted Labels: \", labels)\n",
        "\n",
        "total = 0\n",
        "mismatch = 0\n",
        "\n",
        "for l in original_labels:\n",
        "  total += original_labels[l]\n",
        "  mismatch += abs(original_labels[l] - labels[l])\n",
        "\n",
        "accuracy = (total - mismatch) / total\n",
        "\n",
        "print(\"Accuracy =\",accuracy)"
      ],
      "metadata": {
        "id": "KJd4VMupka-L"
      },
      "execution_count": null,
      "outputs": []
    },
    {
      "cell_type": "code",
      "source": [
        "kmeans = KMeans(max_iters=100,d_func=cosine_similarity)\n",
        "[centroid_centers, clusters] = kmeans.fit(raw_data)\n",
        "\n",
        "labels = {1: 0,2: 0,3: 0,4: 0,5: 0,6: 0,7: 0,8: 0,9:0}\n",
        "\n",
        "for key in clusters:\n",
        "  d = dict(label_cluster(clusters[key]))\n",
        "  mx = 0\n",
        "  s = 0\n",
        "  label = \"\"\n",
        "  for k in d:\n",
        "    s += d[k]\n",
        "    if d[k] > mx:\n",
        "      mx = d[k]\n",
        "      label = k\n",
        "  labels[label] = mx\n",
        "\n",
        "\n",
        "\n",
        "print(\"SSE =\",kmeans.sse_list)\n",
        "print(\"Original Labels: \", original_labels)\n",
        "print(\"Predicted Labels: \", labels)\n",
        "\n",
        "total = 0\n",
        "mismatch = 0\n",
        "\n",
        "for l in original_labels:\n",
        "  total += original_labels[l]\n",
        "  mismatch += abs(original_labels[l] - labels[l])\n",
        "\n",
        "accuracy = (total - mismatch) / total\n",
        "\n",
        "print(\"Accuracy =\",accuracy)"
      ],
      "metadata": {
        "id": "HqiAI-Nxkffj"
      },
      "execution_count": null,
      "outputs": []
    },
    {
      "cell_type": "code",
      "source": [
        "kmeans = KMeans(max_iters=150,d_func=jaccard)\n",
        "[centroid_centers, clusters] = kmeans.fit(raw_data)\n",
        "\n",
        "labels = {1: 0,2: 0,3: 0,4: 0,5: 0,6: 0,7: 0,8: 0,9:0}\n",
        "\n",
        "for key in clusters:\n",
        "  d = dict(label_cluster(clusters[key]))\n",
        "  mx = 0\n",
        "  s = 0\n",
        "  label = \"\"\n",
        "  for k in d:\n",
        "    s += d[k]\n",
        "    if d[k] > mx:\n",
        "      mx = d[k]\n",
        "      label = k\n",
        "  labels[label] = mx\n",
        "\n",
        "\n",
        "\n",
        "print(\"SSE =\",kmeans.sse_list)\n",
        "print(\"Original Labels: \", original_labels)\n",
        "print(\"Predicted Labels: \", labels)\n",
        "\n",
        "total = 0\n",
        "mismatch = 0\n",
        "\n",
        "for l in original_labels:\n",
        "  total += original_labels[l]\n",
        "  mismatch += abs(original_labels[l] - labels[l])\n",
        "\n",
        "accuracy = (total - mismatch) / total\n",
        "\n",
        "print(\"Accuracy =\",accuracy)"
      ],
      "metadata": {
        "id": "_gd6SSKGklnt"
      },
      "execution_count": null,
      "outputs": []
    },
    {
      "cell_type": "code",
      "source": [
        "kmeans = KMeans(max_iters=150,show_sse=True,centroid_stop=False)\n",
        "[centroid_centers, clusters] = kmeans.fit(raw_data)\n",
        "print(kmeans.sse_list)"
      ],
      "metadata": {
        "id": "MXrTQdPYkrNH"
      },
      "execution_count": null,
      "outputs": []
    },
    {
      "cell_type": "code",
      "source": [
        "kmeans = KMeans(max_iters=100,d_func=cosine_similarity,show_sse=True,centroid_stop=False)\n",
        "[centroid_centers, clusters] = kmeans.fit(raw_data)\n",
        "print(kmeans.sse_list)"
      ],
      "metadata": {
        "id": "oFLHonD2kxjj"
      },
      "execution_count": null,
      "outputs": []
    },
    {
      "cell_type": "code",
      "source": [
        "kmeans = KMeans(max_iters=100,d_func=jaccard,show_sse=True,centroid_stop=False)\n",
        "[centroid_centers, clusters] = kmeans.fit(raw_data)\n",
        "print(kmeans.sse_list)"
      ],
      "metadata": {
        "id": "UVn2p5K3k0_T"
      },
      "execution_count": null,
      "outputs": []
    },
    {
      "cell_type": "code",
      "source": [
        "kmeans = KMeans(max_iters=100,show_sse=False,centroid_stop=False)\n",
        "[centroid_centers, clusters] = kmeans.fit(raw_data)\n",
        "print(kmeans.sse_list)"
      ],
      "metadata": {
        "id": "wd8PcR5PlFzJ"
      },
      "execution_count": null,
      "outputs": []
    },
    {
      "cell_type": "code",
      "source": [
        "kmeans = KMeans(max_iters=100,d_func=cosine_similarity,show_sse=False,centroid_stop=False)\n",
        "[centroid_centers, clusters] = kmeans.fit(raw_data)\n",
        "print(kmeans.sse_list)"
      ],
      "metadata": {
        "id": "tLCMKTWplHr4"
      },
      "execution_count": null,
      "outputs": []
    },
    {
      "cell_type": "code",
      "source": [
        "kmeans = KMeans(max_iters=100,d_func=jaccard,show_sse=False,centroid_stop=False)\n",
        "[centroid_centers, clusters] = kmeans.fit(raw_data)\n",
        "print(kmeans.sse_list)"
      ],
      "metadata": {
        "id": "tQGSxd4AlOYi"
      },
      "execution_count": null,
      "outputs": []
    }
  ]
}